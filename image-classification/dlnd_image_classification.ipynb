{
 "cells": [
  {
   "cell_type": "markdown",
   "metadata": {
    "collapsed": true,
    "deletable": true,
    "editable": true
   },
   "source": [
    "# Image Classification\n",
    "In this project, you'll classify images from the [CIFAR-10 dataset](https://www.cs.toronto.edu/~kriz/cifar.html).  The dataset consists of airplanes, dogs, cats, and other objects. You'll preprocess the images, then train a convolutional neural network on all the samples. The images need to be normalized and the labels need to be one-hot encoded.  You'll get to apply what you learned and build a convolutional, max pooling, dropout, and fully connected layers.  At the end, you'll get to see your neural network's predictions on the sample images.\n",
    "## Get the Data\n",
    "Run the following cell to download the [CIFAR-10 dataset for python](https://www.cs.toronto.edu/~kriz/cifar-10-python.tar.gz)."
   ]
  },
  {
   "cell_type": "code",
   "execution_count": 1,
   "metadata": {
    "collapsed": false,
    "deletable": true,
    "editable": true
   },
   "outputs": [
    {
     "name": "stdout",
     "output_type": "stream",
     "text": [
      "All files found!\n"
     ]
    }
   ],
   "source": [
    "\"\"\"\n",
    "DON'T MODIFY ANYTHING IN THIS CELL THAT IS BELOW THIS LINE\n",
    "\"\"\"\n",
    "from urllib.request import urlretrieve\n",
    "from os.path import isfile, isdir\n",
    "from tqdm import tqdm\n",
    "import problem_unittests as tests\n",
    "import tarfile\n",
    "\n",
    "cifar10_dataset_folder_path = 'cifar-10-batches-py'\n",
    "\n",
    "class DLProgress(tqdm):\n",
    "    last_block = 0\n",
    "\n",
    "    def hook(self, block_num=1, block_size=1, total_size=None):\n",
    "        self.total = total_size\n",
    "        self.update((block_num - self.last_block) * block_size)\n",
    "        self.last_block = block_num\n",
    "\n",
    "if not isfile('cifar-10-python.tar.gz'):\n",
    "    with DLProgress(unit='B', unit_scale=True, miniters=1, desc='CIFAR-10 Dataset') as pbar:\n",
    "        urlretrieve(\n",
    "            'https://www.cs.toronto.edu/~kriz/cifar-10-python.tar.gz',\n",
    "            'cifar-10-python.tar.gz',\n",
    "            pbar.hook)\n",
    "\n",
    "if not isdir(cifar10_dataset_folder_path):\n",
    "    with tarfile.open('cifar-10-python.tar.gz') as tar:\n",
    "        tar.extractall()\n",
    "        tar.close()\n",
    "\n",
    "\n",
    "tests.test_folder_path(cifar10_dataset_folder_path)"
   ]
  },
  {
   "cell_type": "markdown",
   "metadata": {
    "deletable": true,
    "editable": true
   },
   "source": [
    "## Explore the Data\n",
    "The dataset is broken into batches to prevent your machine from running out of memory.  The CIFAR-10 dataset consists of 5 batches, named `data_batch_1`, `data_batch_2`, etc.. Each batch contains the labels and images that are one of the following:\n",
    "* airplane\n",
    "* automobile\n",
    "* bird\n",
    "* cat\n",
    "* deer\n",
    "* dog\n",
    "* frog\n",
    "* horse\n",
    "* ship\n",
    "* truck\n",
    "\n",
    "Understanding a dataset is part of making predictions on the data.  Play around with the code cell below by changing the `batch_id` and `sample_id`. The `batch_id` is the id for a batch (1-5). The `sample_id` is the id for a image and label pair in the batch.\n",
    "\n",
    "Ask yourself \"What are all possible labels?\", \"What is the range of values for the image data?\", \"Are the labels in order or random?\".  Answers to questions like these will help you preprocess the data and end up with better predictions."
   ]
  },
  {
   "cell_type": "code",
   "execution_count": 2,
   "metadata": {
    "collapsed": false,
    "deletable": true,
    "editable": true
   },
   "outputs": [
    {
     "name": "stdout",
     "output_type": "stream",
     "text": [
      "\n",
      "Stats of batch 2:\n",
      "Samples: 10000\n",
      "Label Counts: {0: 984, 1: 1007, 2: 1010, 3: 995, 4: 1010, 5: 988, 6: 1008, 7: 1026, 8: 987, 9: 985}\n",
      "First 20 Labels: [1, 6, 6, 8, 8, 3, 4, 6, 0, 6, 0, 3, 6, 6, 5, 4, 8, 3, 2, 6]\n",
      "\n",
      "Example of Image 5:\n",
      "Image - Min Value: 3 Max Value: 219\n",
      "Image - Shape: (32, 32, 3)\n",
      "Label - Label Id: 3 Name: cat\n"
     ]
    },
    {
     "data": {
      "image/png": "[encoded data removed]",
      "text/plain": [
       "<matplotlib.figure.Figure at 0x7feed30c26a0>"
      ]
     },
     "metadata": {
      "image/png": {
       "height": 250,
       "width": 253
      }
     },
     "output_type": "display_data"
    }
   ],
   "source": [
    "%matplotlib inline\n",
    "%config InlineBackend.figure_format = 'retina'\n",
    "\n",
    "import helper\n",
    "import numpy as np\n",
    "\n",
    "# Explore the dataset\n",
    "batch_id = 2\n",
    "sample_id = 5\n",
    "helper.display_stats(cifar10_dataset_folder_path, batch_id, sample_id)"
   ]
  },
  {
   "cell_type": "markdown",
   "metadata": {
    "deletable": true,
    "editable": true
   },
   "source": [
    "## Implement Preprocess Functions\n",
    "### Normalize\n",
    "In the cell below, implement the `normalize` function to take in image data, `x`, and return it as a normalized Numpy array. The values should be in the range of 0 to 1, inclusive.  The return object should be the same shape as `x`."
   ]
  },
  {
   "cell_type": "code",
   "execution_count": 3,
   "metadata": {
    "collapsed": false,
    "deletable": true,
    "editable": true
   },
   "outputs": [
    {
     "name": "stdout",
     "output_type": "stream",
     "text": [
      "Tests Passed\n"
     ]
    }
   ],
   "source": [
    "def normalize(x):\n",
    "    \"\"\"\n",
    "    Normalize a list of sample image data in the range of 0 to 1\n",
    "    : x: List of image data.  The image shape is (32, 32, 3)\n",
    "    : return: Numpy array of normalize data\n",
    "    \"\"\"\n",
    "    # TODO: Implement Function\n",
    "    max_val = x.max()\n",
    "    min_val = x.min()\n",
    "    return (x-min_val)/(max_val-min_val)\n",
    "\n",
    "\n",
    "\"\"\"\n",
    "DON'T MODIFY ANYTHING IN THIS CELL THAT IS BELOW THIS LINE\n",
    "\"\"\"\n",
    "tests.test_normalize(normalize)"
   ]
  },
  {
   "cell_type": "markdown",
   "metadata": {
    "deletable": true,
    "editable": true
   },
   "source": [
    "### One-hot encode\n",
    "Just like the previous code cell, you'll be implementing a function for preprocessing.  This time, you'll implement the `one_hot_encode` function. The input, `x`, are a list of labels.  Implement the function to return the list of labels as One-Hot encoded Numpy array.  The possible values for labels are 0 to 9. The one-hot encoding function should return the same encoding for each value between each call to `one_hot_encode`.  Make sure to save the map of encodings outside the function.\n",
    "\n",
    "Hint: Don't reinvent the wheel."
   ]
  },
  {
   "cell_type": "code",
   "execution_count": 4,
   "metadata": {
    "collapsed": false,
    "deletable": true,
    "editable": true
   },
   "outputs": [
    {
     "name": "stdout",
     "output_type": "stream",
     "text": [
      "Tests Passed\n"
     ]
    }
   ],
   "source": [
    "def one_hot_encode(x):\n",
    "    \"\"\"\n",
    "    One hot encode a list of sample labels. Return a one-hot encoded vector for each label.\n",
    "    : x: List of sample Labels\n",
    "    : return: Numpy array of one-hot encoded labels\n",
    "    \"\"\"\n",
    "    return np.eye(10)[x]\n",
    "\n",
    "\n",
    "\"\"\"\n",
    "DON'T MODIFY ANYTHING IN THIS CELL THAT IS BELOW THIS LINE\n",
    "\"\"\"\n",
    "tests.test_one_hot_encode(one_hot_encode)"
   ]
  },
  {
   "cell_type": "markdown",
   "metadata": {
    "deletable": true,
    "editable": true
   },
   "source": [
    "### Randomize Data\n",
    "As you saw from exploring the data above, the order of the samples are randomized.  It doesn't hurt to randomize it again, but you don't need to for this dataset."
   ]
  },
  {
   "cell_type": "markdown",
   "metadata": {
    "deletable": true,
    "editable": true
   },
   "source": [
    "## Preprocess all the data and save it\n",
    "Running the code cell below will preprocess all the CIFAR-10 data and save it to file. The code below also uses 10% of the training data for validation."
   ]
  },
  {
   "cell_type": "code",
   "execution_count": 5,
   "metadata": {
    "collapsed": false,
    "deletable": true,
    "editable": true
   },
   "outputs": [],
   "source": [
    "\"\"\"\n",
    "DON'T MODIFY ANYTHING IN THIS CELL\n",
    "\"\"\"\n",
    "# Preprocess Training, Validation, and Testing Data\n",
    "helper.preprocess_and_save_data(cifar10_dataset_folder_path, normalize, one_hot_encode)"
   ]
  },
  {
   "cell_type": "markdown",
   "metadata": {
    "deletable": true,
    "editable": true
   },
   "source": [
    "# Check Point\n",
    "This is your first checkpoint.  If you ever decide to come back to this notebook or have to restart the notebook, you can start from here.  The preprocessed data has been saved to disk."
   ]
  },
  {
   "cell_type": "code",
   "execution_count": 6,
   "metadata": {
    "collapsed": true,
    "deletable": true,
    "editable": true
   },
   "outputs": [],
   "source": [
    "\"\"\"\n",
    "DON'T MODIFY ANYTHING IN THIS CELL\n",
    "\"\"\"\n",
    "import pickle\n",
    "import problem_unittests as tests\n",
    "import helper\n",
    "\n",
    "# Load the Preprocessed Validation data\n",
    "valid_features, valid_labels = pickle.load(open('preprocess_validation.p', mode='rb'))"
   ]
  },
  {
   "cell_type": "markdown",
   "metadata": {
    "deletable": true,
    "editable": true
   },
   "source": [
    "## Build the network\n",
    "For the neural network, you'll build each layer into a function.  Most of the code you've seen has been outside of functions. To test your code more thoroughly, we require that you put each layer in a function.  This allows us to give you better feedback and test for simple mistakes using our unittests before you submit your project.\n",
    "\n",
    "If you're finding it hard to dedicate enough time for this course a week, we've provided a small shortcut to this part of the project. In the next couple of problems, you'll have the option to use [TensorFlow Layers](https://www.tensorflow.org/api_docs/python/tf/layers) or [TensorFlow Layers (contrib)](https://www.tensorflow.org/api_guides/python/contrib.layers) to build each layer, except \"Convolutional & Max Pooling\" layer.  TF Layers is similar to Keras's and TFLearn's abstraction to layers, so it's easy to pickup.\n",
    "\n",
    "If you would like to get the most of this course, try to solve all the problems without TF Layers.  Let's begin!\n",
    "### Input\n",
    "The neural network needs to read the image data, one-hot encoded labels, and dropout keep probability. Implement the following functions\n",
    "* Implement `neural_net_image_input`\n",
    " * Return a [TF Placeholder](https://www.tensorflow.org/api_docs/python/tf/placeholder)\n",
    " * Set the shape using `image_shape` with batch size set to `None`.\n",
    " * Name the TensorFlow placeholder \"x\" using the TensorFlow `name` parameter in the [TF Placeholder](https://www.tensorflow.org/api_docs/python/tf/placeholder).\n",
    "* Implement `neural_net_label_input`\n",
    " * Return a [TF Placeholder](https://www.tensorflow.org/api_docs/python/tf/placeholder)\n",
    " * Set the shape using `n_classes` with batch size set to `None`.\n",
    " * Name the TensorFlow placeholder \"y\" using the TensorFlow `name` parameter in the [TF Placeholder](https://www.tensorflow.org/api_docs/python/tf/placeholder).\n",
    "* Implement `neural_net_keep_prob_input`\n",
    " * Return a [TF Placeholder](https://www.tensorflow.org/api_docs/python/tf/placeholder) for dropout keep probability.\n",
    " * Name the TensorFlow placeholder \"keep_prob\" using the TensorFlow `name` parameter in the [TF Placeholder](https://www.tensorflow.org/api_docs/python/tf/placeholder).\n",
    "\n",
    "These names will be used at the end of the project to load your saved model.\n",
    "\n",
    "Note: `None` for shapes in TensorFlow allow for a dynamic size."
   ]
  },
  {
   "cell_type": "code",
   "execution_count": 7,
   "metadata": {
    "collapsed": false,
    "deletable": true,
    "editable": true
   },
   "outputs": [
    {
     "name": "stdout",
     "output_type": "stream",
     "text": [
      "Image Input Tests Passed.\n",
      "Label Input Tests Passed.\n",
      "Keep Prob Tests Passed.\n"
     ]
    }
   ],
   "source": [
    "import tensorflow as tf\n",
    "\n",
    "def neural_net_image_input(image_shape):\n",
    "    \"\"\"\n",
    "    Return a Tensor for a bach of image input\n",
    "    : image_shape: Shape of the images\n",
    "    : return: Tensor for image input.\n",
    "    \"\"\"\n",
    "    # TODO: Implement Function\n",
    "    return tf.placeholder(shape=(None, image_shape[0], image_shape[1], image_shape[2] ), dtype=tf.float32, name='x')\n",
    "\n",
    "\n",
    "def neural_net_label_input(n_classes):\n",
    "    \"\"\"\n",
    "    Return a Tensor for a batch of label input\n",
    "    : n_classes: Number of classes\n",
    "    : return: Tensor for label input.\n",
    "    \"\"\"\n",
    "    # TODO: Implement Function\n",
    "    return tf.placeholder(shape=(None, n_classes), dtype=tf.int32, name='y')\n",
    "\n",
    "\n",
    "def neural_net_keep_prob_input():\n",
    "    \"\"\"\n",
    "    Return a Tensor for keep probability\n",
    "    : return: Tensor for keep probability.\n",
    "    \"\"\"\n",
    "    # TODO: Implement Function\n",
    "    return tf.placeholder(name='keep_prob', dtype=tf.float32)\n",
    "\n",
    "\n",
    "\"\"\"\n",
    "DON'T MODIFY ANYTHING IN THIS CELL THAT IS BELOW THIS LINE\n",
    "\"\"\"\n",
    "tf.reset_default_graph()\n",
    "tests.test_nn_image_inputs(neural_net_image_input)\n",
    "tests.test_nn_label_inputs(neural_net_label_input)\n",
    "tests.test_nn_keep_prob_inputs(neural_net_keep_prob_input)"
   ]
  },
  {
   "cell_type": "markdown",
   "metadata": {
    "deletable": true,
    "editable": true
   },
   "source": [
    "### Convolution and Max Pooling Layer\n",
    "Convolution layers have a lot of success with images. For this code cell, you should implement the function `conv2d_maxpool` to apply convolution then max pooling:\n",
    "* Create the weight and bias using `conv_ksize`, `conv_num_outputs` and the shape of `x_tensor`.\n",
    "* Apply a convolution to `x_tensor` using weight and `conv_strides`.\n",
    " * We recommend you use same padding, but you're welcome to use any padding.\n",
    "* Add bias\n",
    "* Add a nonlinear activation to the convolution.\n",
    "* Apply Max Pooling using `pool_ksize` and `pool_strides`.\n",
    " * We recommend you use same padding, but you're welcome to use any padding.\n",
    "\n",
    "Note: You **can't** use [TensorFlow Layers](https://www.tensorflow.org/api_docs/python/tf/layers) or [TensorFlow Layers (contrib)](https://www.tensorflow.org/api_guides/python/contrib.layers) for this layer.  You're free to use any TensorFlow package for all the other layers."
   ]
  },
  {
   "cell_type": "code",
   "execution_count": 8,
   "metadata": {
    "collapsed": false,
    "deletable": true,
    "editable": true
   },
   "outputs": [
    {
     "name": "stdout",
     "output_type": "stream",
     "text": [
      "Tests Passed\n"
     ]
    }
   ],
   "source": [
    "def conv2d_maxpool(x_tensor, conv_num_outputs, conv_ksize, conv_strides, pool_ksize, pool_strides):\n",
    "    \"\"\"\n",
    "    Apply convolution then max pooling to x_tensor\n",
    "    :param x_tensor: TensorFlow Tensor\n",
    "    :param conv_num_outputs: Number of outputs for the convolutional layer\n",
    "    :param conv_strides: Stride 2-D Tuple for convolution\n",
    "    :param pool_ksize: kernal size 2-D Tuple for pool\n",
    "    :param pool_strides: Stride 2-D Tuple for pool\n",
    "    : return: A tensor that represents convolution and max pooling of x_tensor\n",
    "    \"\"\"\n",
    "    \n",
    "    img_depth = int(x_tensor.shape[-1])\n",
    "    W_shape = [conv_ksize[0],conv_ksize[0], img_depth, conv_num_outputs]\n",
    "\n",
    "    F_W = tf.Variable(tf.random_normal(W_shape, stddev=0.1))\n",
    "    F_b = tf.Variable(tf.zeros([conv_num_outputs]))\n",
    "\n",
    "    conv = tf.nn.conv2d( x_tensor, F_W, strides = [1, *conv_strides, 1], padding = 'SAME' )\n",
    "    conv = tf.nn.bias_add(conv, F_b)\n",
    "    conv = tf.nn.relu(conv)\n",
    "    \n",
    "    pooled = tf.nn.max_pool(\n",
    "        conv,\n",
    "        [1, *pool_ksize, 1],\n",
    "        [1, *pool_strides, 1],\n",
    "        padding = 'SAME')\n",
    "        \n",
    "    return pooled\n",
    "\n",
    "\"\"\"\n",
    "DON'T MODIFY ANYTHING IN THIS CELL THAT IS BELOW THIS LINE\n",
    "\"\"\"\n",
    "tests.test_con_pool(conv2d_maxpool)"
   ]
  },
  {
   "cell_type": "markdown",
   "metadata": {
    "deletable": true,
    "editable": true
   },
   "source": [
    "### Flatten Layer\n",
    "Implement the `flatten` function to change the dimension of `x_tensor` from a 4-D tensor to a 2-D tensor.  The output should be the shape (*Batch Size*, *Flattened Image Size*). You can use [TensorFlow Layers](https://www.tensorflow.org/api_docs/python/tf/layers) or [TensorFlow Layers (contrib)](https://www.tensorflow.org/api_guides/python/contrib.layers) for this layer."
   ]
  },
  {
   "cell_type": "code",
   "execution_count": 9,
   "metadata": {
    "collapsed": false,
    "deletable": true,
    "editable": true
   },
   "outputs": [
    {
     "name": "stdout",
     "output_type": "stream",
     "text": [
      "Tests Passed\n"
     ]
    }
   ],
   "source": [
    "def flatten(x_tensor):\n",
    "    \"\"\"\n",
    "    Flatten x_tensor to (Batch Size, Flattened Image Size)\n",
    "    : x_tensor: A tensor of size (Batch Size, ...), where ... are the image dimensions.\n",
    "    : return: A tensor of size (Batch Size, Flattened Image Size).\n",
    "    \"\"\"\n",
    "\n",
    "    shape = x_tensor.get_shape().as_list()\n",
    "    dim = np.prod(shape[1:])\n",
    "    return tf.reshape(x_tensor, [-1, dim])\n",
    "\n",
    "\n",
    "\"\"\"\n",
    "DON'T MODIFY ANYTHING IN THIS CELL THAT IS BELOW THIS LINE\n",
    "\"\"\"\n",
    "tests.test_flatten(flatten)"
   ]
  },
  {
   "cell_type": "markdown",
   "metadata": {
    "deletable": true,
    "editable": true
   },
   "source": [
    "### Fully-Connected Layer\n",
    "Implement the `fully_conn` function to apply a fully connected layer to `x_tensor` with the shape (*Batch Size*, *num_outputs*). You can use [TensorFlow Layers](https://www.tensorflow.org/api_docs/python/tf/layers) or [TensorFlow Layers (contrib)](https://www.tensorflow.org/api_guides/python/contrib.layers) for this layer."
   ]
  },
  {
   "cell_type": "code",
   "execution_count": 10,
   "metadata": {
    "collapsed": false,
    "deletable": true,
    "editable": true
   },
   "outputs": [
    {
     "name": "stdout",
     "output_type": "stream",
     "text": [
      "Tests Passed\n"
     ]
    }
   ],
   "source": [
    "def fully_conn(x_tensor, num_outputs):\n",
    "    \"\"\"\n",
    "    Apply a fully connected layer to x_tensor using weight and bias\n",
    "    : x_tensor: A 2-D tensor where the first dimension is batch size.\n",
    "    : num_outputs: The number of output that the new tensor should be.\n",
    "    : return: A 2-D tensor where the second dimension is num_outputs.\n",
    "    \"\"\"\n",
    "    \n",
    "    W = tf.Variable(tf.random_normal([int(x_tensor.shape[1]), num_outputs],stddev=0.1))\n",
    "    b = tf.Variable(tf.zeros([num_outputs]))\n",
    "    \n",
    "    x = tf.add(tf.matmul(x_tensor, W), b)\n",
    "    x = tf.nn.relu(x)\n",
    "    return x\n",
    "\n",
    "\n",
    "\n",
    "\"\"\"\n",
    "DON'T MODIFY ANYTHING IN THIS CELL THAT IS BELOW THIS LINE\n",
    "\"\"\"\n",
    "tests.test_fully_conn(fully_conn)"
   ]
  },
  {
   "cell_type": "markdown",
   "metadata": {
    "deletable": true,
    "editable": true
   },
   "source": [
    "### Output Layer\n",
    "Implement the `output` function to apply a fully connected layer to `x_tensor` with the shape (*Batch Size*, *num_outputs*). You can use [TensorFlow Layers](https://www.tensorflow.org/api_docs/python/tf/layers) or [TensorFlow Layers (contrib)](https://www.tensorflow.org/api_guides/python/contrib.layers) for this layer.\n",
    "\n",
    "Note: Activation, softmax, or cross entropy shouldn't be applied to this."
   ]
  },
  {
   "cell_type": "code",
   "execution_count": 11,
   "metadata": {
    "collapsed": false,
    "deletable": true,
    "editable": true
   },
   "outputs": [
    {
     "name": "stdout",
     "output_type": "stream",
     "text": [
      "Tests Passed\n"
     ]
    }
   ],
   "source": [
    "def output(x_tensor, num_outputs):\n",
    "    \"\"\"\n",
    "    Apply a output layer to x_tensor using weight and bias\n",
    "    : x_tensor: A 2-D tensor where the first dimension is batch size.\n",
    "    : num_outputs: The number of output that the new tensor should be.\n",
    "    : return: A 2-D tensor where the second dimension is num_outputs.\n",
    "    \"\"\"\n",
    "\n",
    "    W = tf.Variable(tf.random_normal([int(x_tensor.shape[1]), num_outputs], stddev=0.1))\n",
    "    b = tf.Variable(tf.zeros([num_outputs]))\n",
    "\n",
    "    return tf.add(tf.matmul(x_tensor, W), b)\n",
    "\n",
    "\"\"\"\n",
    "DON'T MODIFY ANYTHING IN THIS CELL THAT IS BELOW THIS LINE\n",
    "\"\"\"\n",
    "tests.test_output(output)"
   ]
  },
  {
   "cell_type": "markdown",
   "metadata": {
    "deletable": true,
    "editable": true
   },
   "source": [
    "### Create Convolutional Model\n",
    "Implement the function `conv_net` to create a convolutional neural network model. The function takes in a batch of images, `x`, and outputs logits.  Use the layers you created above to create this model:\n",
    "\n",
    "* Apply 1, 2, or 3 Convolution and Max Pool layers\n",
    "* Apply a Flatten Layer\n",
    "* Apply 1, 2, or 3 Fully Connected Layers\n",
    "* Apply an Output Layer\n",
    "* Return the output\n",
    "* Apply [TensorFlow's Dropout](https://www.tensorflow.org/api_docs/python/tf/nn/dropout) to one or more layers in the model using `keep_prob`. "
   ]
  },
  {
   "cell_type": "code",
   "execution_count": 12,
   "metadata": {
    "collapsed": false,
    "deletable": true,
    "editable": true
   },
   "outputs": [
    {
     "name": "stdout",
     "output_type": "stream",
     "text": [
      "Neural Network Built!\n"
     ]
    }
   ],
   "source": [
    "def conv_net(x, keep_prob):\n",
    "    \"\"\"\n",
    "    Create a convolutional neural network model\n",
    "    : x: Placeholder tensor that holds image data.\n",
    "    : keep_prob: Placeholder tensor that hold dropout keep probability.\n",
    "    : return: Tensor that represents logits\n",
    "    \"\"\"\n",
    "\n",
    "    # TODO: Apply 1, 2, or 3 Convolution and Max Pool layers\n",
    "    #    Play around with different number of outputs, kernel size and stride\n",
    "    # Function Definition from Above:\n",
    "    #    conv2d_maxpool(x_tensor, conv_num_outputs, conv_ksize, conv_strides, pool_ksize, pool_strides)\n",
    "    \n",
    "    conv = conv2d_maxpool(x, 32, [3,3], [1,1], [2,2], [2,2])\n",
    "    conv = conv2d_maxpool(x, 64, [3,3], [1,1], [2,2], [2,2])\n",
    "    \n",
    "    # TODO: Apply a Flatten Layer\n",
    "    # Function Definition from Above:\n",
    "    #   flatten(x_tensor)\n",
    "    \n",
    "    flattened = flatten(conv)\n",
    "\n",
    "    # TODO: Apply 1, 2, or 3 Fully Connected Layers\n",
    "    #    Play around with different number of outputs\n",
    "    # Function Definition from Above:\n",
    "    #   fully_conn(x_tensor, num_outputs)\n",
    "    \n",
    "    dense = fully_conn(flattened, 128)\n",
    "    dense = tf.nn.dropout(dense, keep_prob)\n",
    "    \n",
    "    # TODO: Apply an Output Layer\n",
    "    #    Set this to the number of classes\n",
    "    # Function Definition from Above:\n",
    "    #   output(x_tensor, num_outputs)\n",
    "    \n",
    "    out = output(dense, 10)\n",
    "    \n",
    "    # TODO: return output\n",
    "    return out\n",
    " \n",
    "\n",
    "\"\"\"\n",
    "DON'T MODIFY ANYTHING IN THIS CELL THAT IS BELOW THIS LINE\n",
    "\"\"\"\n",
    "\n",
    "##############################\n",
    "## Build the Neural Network ##\n",
    "##############################\n",
    "\n",
    "# Remove previous weights, bias, inputs, etc..\n",
    "tf.reset_default_graph()\n",
    "\n",
    "# Inputs\n",
    "x = neural_net_image_input((32, 32, 3))\n",
    "y = neural_net_label_input(10)\n",
    "keep_prob = neural_net_keep_prob_input()\n",
    "\n",
    "# Model\n",
    "logits = conv_net(x, keep_prob)\n",
    "\n",
    "# Name logits Tensor, so that is can be loaded from disk after training\n",
    "logits = tf.identity(logits, name='logits')\n",
    "\n",
    "# Loss and Optimizer\n",
    "cost = tf.reduce_mean(tf.nn.softmax_cross_entropy_with_logits(logits=logits, labels=y))\n",
    "optimizer = tf.train.AdamOptimizer().minimize(cost)\n",
    "\n",
    "# Accuracy\n",
    "correct_pred = tf.equal(tf.argmax(logits, 1), tf.argmax(y, 1))\n",
    "accuracy = tf.reduce_mean(tf.cast(correct_pred, tf.float32), name='accuracy')\n",
    "\n",
    "tests.test_conv_net(conv_net)"
   ]
  },
  {
   "cell_type": "markdown",
   "metadata": {
    "deletable": true,
    "editable": true
   },
   "source": [
    "## Train the Neural Network\n",
    "### Single Optimization\n",
    "Implement the function `train_neural_network` to do a single optimization.  The optimization should use `optimizer` to optimize in `session` with a `feed_dict` of the following:\n",
    "* `x` for image input\n",
    "* `y` for labels\n",
    "* `keep_prob` for keep probability for dropout\n",
    "\n",
    "This function will be called for each batch, so `tf.global_variables_initializer()` has already been called.\n",
    "\n",
    "Note: Nothing needs to be returned. This function is only optimizing the neural network."
   ]
  },
  {
   "cell_type": "code",
   "execution_count": 13,
   "metadata": {
    "collapsed": false,
    "deletable": true,
    "editable": true
   },
   "outputs": [
    {
     "name": "stdout",
     "output_type": "stream",
     "text": [
      "Tests Passed\n"
     ]
    }
   ],
   "source": [
    "def train_neural_network(session, optimizer, keep_probability, feature_batch, label_batch):\n",
    "    \"\"\"\n",
    "    Optimize the session on a batch of images and labels\n",
    "    : session: Current TensorFlow session\n",
    "    : optimizer: TensorFlow optimizer function\n",
    "    : keep_probability: keep probability\n",
    "    : feature_batch: Batch of Numpy image data\n",
    "    : label_batch: Batch of Numpy label data\n",
    "    \"\"\"\n",
    "    # TODO: Implement Function\n",
    "    session.run(optimizer, feed_dict = {x: feature_batch, y: label_batch, keep_prob: keep_probability} )\n",
    "\n",
    "\n",
    "\"\"\"\n",
    "DON'T MODIFY ANYTHING IN THIS CELL THAT IS BELOW THIS LINE\n",
    "\"\"\"\n",
    "tests.test_train_nn(train_neural_network)"
   ]
  },
  {
   "cell_type": "markdown",
   "metadata": {
    "deletable": true,
    "editable": true
   },
   "source": [
    "### Show Stats\n",
    "Implement the function `print_stats` to print loss and validation accuracy.  Use the global variables `valid_features` and `valid_labels` to calculate validation accuracy.  Use a keep probability of `1.0` to calculate the loss and validation accuracy."
   ]
  },
  {
   "cell_type": "code",
   "execution_count": 14,
   "metadata": {
    "collapsed": false,
    "deletable": true,
    "editable": true
   },
   "outputs": [],
   "source": [
    "def print_stats(session, feature_batch, label_batch, cost, accuracy):\n",
    "    \"\"\"\n",
    "    Print information about loss and validation accuracy\n",
    "    : session: Current TensorFlow session\n",
    "    : feature_batch: Batch of Numpy image data\n",
    "    : label_batch: Batch of Numpy label data\n",
    "    : cost: TensorFlow cost function\n",
    "    : accuracy: TensorFlow accuracy function\n",
    "    \"\"\"\n",
    "    cost, accuracy = session.run( [cost, accuracy ], feed_dict={x: valid_features, y: valid_labels, keep_prob: 1.})\n",
    "    print('cost: {}, accuracy {}'.format(cost, accuracy))"
   ]
  },
  {
   "cell_type": "markdown",
   "metadata": {
    "deletable": true,
    "editable": true
   },
   "source": [
    "### Hyperparameters\n",
    "Tune the following parameters:\n",
    "* Set `epochs` to the number of iterations until the network stops learning or start overfitting\n",
    "* Set `batch_size` to the highest number that your machine has memory for.  Most people set them to common sizes of memory:\n",
    " * 64\n",
    " * 128\n",
    " * 256\n",
    " * ...\n",
    "* Set `keep_probability` to the probability of keeping a node using dropout"
   ]
  },
  {
   "cell_type": "code",
   "execution_count": 15,
   "metadata": {
    "collapsed": true,
    "deletable": true,
    "editable": true
   },
   "outputs": [],
   "source": [
    "# TODO: Tune Parameters\n",
    "epochs = 50\n",
    "batch_size = 128\n",
    "keep_probability = 0.5"
   ]
  },
  {
   "cell_type": "markdown",
   "metadata": {
    "deletable": true,
    "editable": true
   },
   "source": [
    "### Train on a Single CIFAR-10 Batch\n",
    "Instead of training the neural network on all the CIFAR-10 batches of data, let's use a single batch. This should save time while you iterate on the model to get a better accuracy.  Once the final validation accuracy is 50% or greater, run the model on all the data in the next section."
   ]
  },
  {
   "cell_type": "code",
   "execution_count": 16,
   "metadata": {
    "collapsed": false,
    "deletable": true,
    "editable": true
   },
   "outputs": [
    {
     "name": "stdout",
     "output_type": "stream",
     "text": [
      "Checking the Training on a Single Batch...\n",
      "Epoch  1, CIFAR-10 Batch 1:  cost: 2.0726559162139893, accuracy 0.24819998443126678\n",
      "Epoch  2, CIFAR-10 Batch 1:  cost: 1.8503602743148804, accuracy 0.3474000096321106\n",
      "Epoch  3, CIFAR-10 Batch 1:  cost: 1.7206751108169556, accuracy 0.40059998631477356\n",
      "Epoch  4, CIFAR-10 Batch 1:  cost: 1.6353096961975098, accuracy 0.4205999970436096\n",
      "Epoch  5, CIFAR-10 Batch 1:  cost: 1.5731366872787476, accuracy 0.44999995827674866\n",
      "Epoch  6, CIFAR-10 Batch 1:  cost: 1.4983127117156982, accuracy 0.4761999249458313\n",
      "Epoch  7, CIFAR-10 Batch 1:  cost: 1.4725137948989868, accuracy 0.4779999554157257\n",
      "Epoch  8, CIFAR-10 Batch 1:  cost: 1.420907974243164, accuracy 0.4997999668121338\n",
      "Epoch  9, CIFAR-10 Batch 1:  cost: 1.39738130569458, accuracy 0.5043999552726746\n",
      "Epoch 10, CIFAR-10 Batch 1:  cost: 1.3781588077545166, accuracy 0.5105999708175659\n",
      "Epoch 11, CIFAR-10 Batch 1:  cost: 1.3650524616241455, accuracy 0.5151999592781067\n",
      "Epoch 12, CIFAR-10 Batch 1:  cost: 1.3456302881240845, accuracy 0.5203999280929565\n",
      "Epoch 13, CIFAR-10 Batch 1:  cost: 1.3548197746276855, accuracy 0.5181999206542969\n",
      "Epoch 14, CIFAR-10 Batch 1:  cost: 1.313101887702942, accuracy 0.5389999151229858\n",
      "Epoch 15, CIFAR-10 Batch 1:  cost: 1.3199272155761719, accuracy 0.533799946308136\n",
      "Epoch 16, CIFAR-10 Batch 1:  cost: 1.3151108026504517, accuracy 0.5305999517440796\n",
      "Epoch 17, CIFAR-10 Batch 1:  cost: 1.3009546995162964, accuracy 0.5377999544143677\n",
      "Epoch 18, CIFAR-10 Batch 1:  cost: 1.3314311504364014, accuracy 0.5227999091148376\n",
      "Epoch 19, CIFAR-10 Batch 1:  cost: 1.3226629495620728, accuracy 0.5323999524116516\n",
      "Epoch 20, CIFAR-10 Batch 1:  cost: 1.305088996887207, accuracy 0.5419999361038208\n",
      "Epoch 21, CIFAR-10 Batch 1:  cost: 1.2894707918167114, accuracy 0.550399899482727\n",
      "Epoch 22, CIFAR-10 Batch 1:  cost: 1.3235862255096436, accuracy 0.5425999164581299\n",
      "Epoch 23, CIFAR-10 Batch 1:  cost: 1.2827889919281006, accuracy 0.5585998892784119\n",
      "Epoch 24, CIFAR-10 Batch 1:  cost: 1.2891507148742676, accuracy 0.5483999252319336\n",
      "Epoch 25, CIFAR-10 Batch 1:  cost: 1.274923324584961, accuracy 0.5529999136924744\n",
      "Epoch 26, CIFAR-10 Batch 1:  cost: 1.317515254020691, accuracy 0.5559999346733093\n",
      "Epoch 27, CIFAR-10 Batch 1:  cost: 1.3030545711517334, accuracy 0.5547999143600464\n",
      "Epoch 28, CIFAR-10 Batch 1:  cost: 1.2997353076934814, accuracy 0.5633999705314636\n",
      "Epoch 29, CIFAR-10 Batch 1:  cost: 1.3103985786437988, accuracy 0.5435999631881714\n",
      "Epoch 30, CIFAR-10 Batch 1:  cost: 1.3244738578796387, accuracy 0.5423999428749084\n",
      "Epoch 31, CIFAR-10 Batch 1:  cost: 1.3401710987091064, accuracy 0.5511999726295471\n",
      "Epoch 32, CIFAR-10 Batch 1:  cost: 1.3209850788116455, accuracy 0.5593999624252319\n",
      "Epoch 33, CIFAR-10 Batch 1:  cost: 1.3359323740005493, accuracy 0.5603999495506287\n",
      "Epoch 34, CIFAR-10 Batch 1:  cost: 1.3661832809448242, accuracy 0.5519999265670776\n",
      "Epoch 35, CIFAR-10 Batch 1:  cost: 1.3832889795303345, accuracy 0.5547999739646912\n",
      "Epoch 36, CIFAR-10 Batch 1:  cost: 1.4160537719726562, accuracy 0.5447999238967896\n",
      "Epoch 37, CIFAR-10 Batch 1:  cost: 1.4097306728363037, accuracy 0.5481999516487122\n",
      "Epoch 38, CIFAR-10 Batch 1:  cost: 1.4317400455474854, accuracy 0.543999969959259\n",
      "Epoch 39, CIFAR-10 Batch 1:  cost: 1.4639068841934204, accuracy 0.5295999050140381\n",
      "Epoch 40, CIFAR-10 Batch 1:  cost: 1.4278208017349243, accuracy 0.5431999564170837\n",
      "Epoch 41, CIFAR-10 Batch 1:  cost: 1.4589247703552246, accuracy 0.5455999374389648\n",
      "Epoch 42, CIFAR-10 Batch 1:  cost: 1.5028764009475708, accuracy 0.5217999815940857\n",
      "Epoch 43, CIFAR-10 Batch 1:  cost: 1.4706699848175049, accuracy 0.5469999313354492\n",
      "Epoch 44, CIFAR-10 Batch 1:  cost: 1.4779319763183594, accuracy 0.5347999334335327\n",
      "Epoch 45, CIFAR-10 Batch 1:  cost: 1.481626033782959, accuracy 0.5507999658584595\n",
      "Epoch 46, CIFAR-10 Batch 1:  cost: 1.4970803260803223, accuracy 0.5511999726295471\n",
      "Epoch 47, CIFAR-10 Batch 1:  cost: 1.4889113903045654, accuracy 0.5485999584197998\n",
      "Epoch 48, CIFAR-10 Batch 1:  cost: 1.5277767181396484, accuracy 0.5501999258995056\n",
      "Epoch 49, CIFAR-10 Batch 1:  cost: 1.4813346862792969, accuracy 0.5579999685287476\n",
      "Epoch 50, CIFAR-10 Batch 1:  cost: 1.547101616859436, accuracy 0.558199942111969\n"
     ]
    }
   ],
   "source": [
    "\"\"\"\n",
    "DON'T MODIFY ANYTHING IN THIS CELL\n",
    "\"\"\"\n",
    "print('Checking the Training on a Single Batch...')\n",
    "with tf.Session() as sess:\n",
    "    # Initializing the variables\n",
    "    sess.run(tf.global_variables_initializer())\n",
    "    \n",
    "    # Training cycle\n",
    "    for epoch in range(epochs):\n",
    "        batch_i = 1\n",
    "        for batch_features, batch_labels in helper.load_preprocess_training_batch(batch_i, batch_size):\n",
    "            train_neural_network(sess, optimizer, keep_probability, batch_features, batch_labels)\n",
    "        print('Epoch {:>2}, CIFAR-10 Batch {}:  '.format(epoch + 1, batch_i), end='')\n",
    "        print_stats(sess, batch_features, batch_labels, cost, accuracy)"
   ]
  },
  {
   "cell_type": "markdown",
   "metadata": {
    "deletable": true,
    "editable": true
   },
   "source": [
    "### Fully Train the Model\n",
    "Now that you got a good accuracy with a single CIFAR-10 batch, try it with all five batches."
   ]
  },
  {
   "cell_type": "code",
   "execution_count": 17,
   "metadata": {
    "collapsed": false,
    "deletable": true,
    "editable": true
   },
   "outputs": [
    {
     "name": "stdout",
     "output_type": "stream",
     "text": [
      "Training...\n",
      "Epoch  1, CIFAR-10 Batch 1:  cost: 1.9720016717910767, accuracy 0.3125999867916107\n",
      "Epoch  1, CIFAR-10 Batch 2:  cost: 1.7509034872055054, accuracy 0.3930000066757202\n",
      "Epoch  1, CIFAR-10 Batch 3:  cost: 1.6668169498443604, accuracy 0.4142000079154968\n",
      "Epoch  1, CIFAR-10 Batch 4:  cost: 1.5609458684921265, accuracy 0.45239993929862976\n",
      "Epoch  1, CIFAR-10 Batch 5:  cost: 1.5286855697631836, accuracy 0.4647999703884125\n",
      "Epoch  2, CIFAR-10 Batch 1:  cost: 1.453447937965393, accuracy 0.4873999059200287\n",
      "Epoch  2, CIFAR-10 Batch 2:  cost: 1.4148967266082764, accuracy 0.49679994583129883\n",
      "Epoch  2, CIFAR-10 Batch 3:  cost: 1.3973431587219238, accuracy 0.5021999478340149\n",
      "Epoch  2, CIFAR-10 Batch 4:  cost: 1.356532335281372, accuracy 0.531999945640564\n",
      "Epoch  2, CIFAR-10 Batch 5:  cost: 1.3327724933624268, accuracy 0.5345999002456665\n",
      "Epoch  3, CIFAR-10 Batch 1:  cost: 1.3186790943145752, accuracy 0.5381999611854553\n",
      "Epoch  3, CIFAR-10 Batch 2:  cost: 1.2830716371536255, accuracy 0.5501999258995056\n",
      "Epoch  3, CIFAR-10 Batch 3:  cost: 1.297479271888733, accuracy 0.5367999076843262\n",
      "Epoch  3, CIFAR-10 Batch 4:  cost: 1.2889798879623413, accuracy 0.5621998906135559\n",
      "Epoch  3, CIFAR-10 Batch 5:  cost: 1.2331937551498413, accuracy 0.5637999176979065\n",
      "Epoch  4, CIFAR-10 Batch 1:  cost: 1.2257966995239258, accuracy 0.5691999197006226\n",
      "Epoch  4, CIFAR-10 Batch 2:  cost: 1.2227903604507446, accuracy 0.5701999664306641\n",
      "Epoch  4, CIFAR-10 Batch 3:  cost: 1.2202813625335693, accuracy 0.5725998878479004\n",
      "Epoch  4, CIFAR-10 Batch 4:  cost: 1.185884714126587, accuracy 0.5885999202728271\n",
      "Epoch  4, CIFAR-10 Batch 5:  cost: 1.1833837032318115, accuracy 0.5849999189376831\n",
      "Epoch  5, CIFAR-10 Batch 1:  cost: 1.2051516771316528, accuracy 0.5749998688697815\n",
      "Epoch  5, CIFAR-10 Batch 2:  cost: 1.1822739839553833, accuracy 0.5865999460220337\n",
      "Epoch  5, CIFAR-10 Batch 3:  cost: 1.1453461647033691, accuracy 0.5953999757766724\n",
      "Epoch  5, CIFAR-10 Batch 4:  cost: 1.1486080884933472, accuracy 0.5971999168395996\n",
      "Epoch  5, CIFAR-10 Batch 5:  cost: 1.125672459602356, accuracy 0.6029998660087585\n",
      "Epoch  6, CIFAR-10 Batch 1:  cost: 1.1753743886947632, accuracy 0.5871999263763428\n",
      "Epoch  6, CIFAR-10 Batch 2:  cost: 1.149129867553711, accuracy 0.598599910736084\n",
      "Epoch  6, CIFAR-10 Batch 3:  cost: 1.1218348741531372, accuracy 0.6069998741149902\n",
      "Epoch  6, CIFAR-10 Batch 4:  cost: 1.1050001382827759, accuracy 0.6121999025344849\n",
      "Epoch  6, CIFAR-10 Batch 5:  cost: 1.0898103713989258, accuracy 0.6203998923301697\n",
      "Epoch  7, CIFAR-10 Batch 1:  cost: 1.1231862306594849, accuracy 0.6019999384880066\n",
      "Epoch  7, CIFAR-10 Batch 2:  cost: 1.1045111417770386, accuracy 0.6141999363899231\n",
      "Epoch  7, CIFAR-10 Batch 3:  cost: 1.0878409147262573, accuracy 0.6237999200820923\n",
      "Epoch  7, CIFAR-10 Batch 4:  cost: 1.081549048423767, accuracy 0.6209999322891235\n",
      "Epoch  7, CIFAR-10 Batch 5:  cost: 1.0788795948028564, accuracy 0.6197999119758606\n",
      "Epoch  8, CIFAR-10 Batch 1:  cost: 1.0772103071212769, accuracy 0.6239999532699585\n",
      "Epoch  8, CIFAR-10 Batch 2:  cost: 1.1029584407806396, accuracy 0.6065999269485474\n",
      "Epoch  8, CIFAR-10 Batch 3:  cost: 1.0553361177444458, accuracy 0.6305999159812927\n",
      "Epoch  8, CIFAR-10 Batch 4:  cost: 1.0500574111938477, accuracy 0.6287999153137207\n",
      "Epoch  8, CIFAR-10 Batch 5:  cost: 1.0440075397491455, accuracy 0.6331998705863953\n",
      "Epoch  9, CIFAR-10 Batch 1:  cost: 1.0499552488327026, accuracy 0.6333999037742615\n",
      "Epoch  9, CIFAR-10 Batch 2:  cost: 1.0918068885803223, accuracy 0.6151999235153198\n",
      "Epoch  9, CIFAR-10 Batch 3:  cost: 1.0458109378814697, accuracy 0.6307998895645142\n",
      "Epoch  9, CIFAR-10 Batch 4:  cost: 1.0495835542678833, accuracy 0.6305999159812927\n",
      "Epoch  9, CIFAR-10 Batch 5:  cost: 1.0531078577041626, accuracy 0.6245999932289124\n",
      "Epoch 10, CIFAR-10 Batch 1:  cost: 1.036995530128479, accuracy 0.6339999437332153\n",
      "Epoch 10, CIFAR-10 Batch 2:  cost: 1.0703002214431763, accuracy 0.6221998929977417\n",
      "Epoch 10, CIFAR-10 Batch 3:  cost: 1.0832581520080566, accuracy 0.6187998652458191\n",
      "Epoch 10, CIFAR-10 Batch 4:  cost: 1.056156873703003, accuracy 0.6279999017715454\n",
      "Epoch 10, CIFAR-10 Batch 5:  cost: 1.0618085861206055, accuracy 0.6267998814582825\n",
      "Epoch 11, CIFAR-10 Batch 1:  cost: 1.041529655456543, accuracy 0.6341999173164368\n",
      "Epoch 11, CIFAR-10 Batch 2:  cost: 1.0611776113510132, accuracy 0.6287999153137207\n",
      "Epoch 11, CIFAR-10 Batch 3:  cost: 1.0474008321762085, accuracy 0.6387999057769775\n",
      "Epoch 11, CIFAR-10 Batch 4:  cost: 1.0297629833221436, accuracy 0.6365998983383179\n",
      "Epoch 11, CIFAR-10 Batch 5:  cost: 1.0317442417144775, accuracy 0.6411999464035034\n",
      "Epoch 12, CIFAR-10 Batch 1:  cost: 1.0217143297195435, accuracy 0.6363999247550964\n",
      "Epoch 12, CIFAR-10 Batch 2:  cost: 1.037566900253296, accuracy 0.6361998915672302\n",
      "Epoch 12, CIFAR-10 Batch 3:  cost: 1.0222102403640747, accuracy 0.6459998488426208\n",
      "Epoch 12, CIFAR-10 Batch 4:  cost: 1.0498416423797607, accuracy 0.6345998644828796\n",
      "Epoch 12, CIFAR-10 Batch 5:  cost: 1.0468095541000366, accuracy 0.6329998970031738\n",
      "Epoch 13, CIFAR-10 Batch 1:  cost: 1.0391948223114014, accuracy 0.6405999660491943\n",
      "Epoch 13, CIFAR-10 Batch 2:  cost: 1.0205293893814087, accuracy 0.6435998678207397\n",
      "Epoch 13, CIFAR-10 Batch 3:  cost: 1.041553020477295, accuracy 0.6385998725891113\n",
      "Epoch 13, CIFAR-10 Batch 4:  cost: 1.025824785232544, accuracy 0.6475999355316162\n",
      "Epoch 13, CIFAR-10 Batch 5:  cost: 1.005354404449463, accuracy 0.6475998759269714\n",
      "Epoch 14, CIFAR-10 Batch 1:  cost: 1.0188175439834595, accuracy 0.6483998894691467\n",
      "Epoch 14, CIFAR-10 Batch 2:  cost: 1.0301792621612549, accuracy 0.6367999315261841\n",
      "Epoch 14, CIFAR-10 Batch 3:  cost: 1.0325297117233276, accuracy 0.6447998881340027\n",
      "Epoch 14, CIFAR-10 Batch 4:  cost: 1.012808918952942, accuracy 0.6483998894691467\n",
      "Epoch 14, CIFAR-10 Batch 5:  cost: 1.0462214946746826, accuracy 0.6371999382972717\n",
      "Epoch 15, CIFAR-10 Batch 1:  cost: 1.0221354961395264, accuracy 0.6497998833656311\n",
      "Epoch 15, CIFAR-10 Batch 2:  cost: 1.0074987411499023, accuracy 0.6525998115539551\n",
      "Epoch 15, CIFAR-10 Batch 3:  cost: 1.0287368297576904, accuracy 0.6487998962402344\n",
      "Epoch 15, CIFAR-10 Batch 4:  cost: 1.013585090637207, accuracy 0.6497998833656311\n",
      "Epoch 15, CIFAR-10 Batch 5:  cost: 1.006049394607544, accuracy 0.6555999517440796\n",
      "Epoch 16, CIFAR-10 Batch 1:  cost: 1.0470212697982788, accuracy 0.6397998929023743\n",
      "Epoch 16, CIFAR-10 Batch 2:  cost: 1.0064932107925415, accuracy 0.6557998657226562\n",
      "Epoch 16, CIFAR-10 Batch 3:  cost: 1.0600992441177368, accuracy 0.6385998725891113\n",
      "Epoch 16, CIFAR-10 Batch 4:  cost: 1.0370917320251465, accuracy 0.6517999172210693\n",
      "Epoch 16, CIFAR-10 Batch 5:  cost: 1.0293434858322144, accuracy 0.6509998440742493\n",
      "Epoch 17, CIFAR-10 Batch 1:  cost: 1.020246982574463, accuracy 0.6535998582839966\n",
      "Epoch 17, CIFAR-10 Batch 2:  cost: 1.0348724126815796, accuracy 0.6485999226570129\n",
      "Epoch 17, CIFAR-10 Batch 3:  cost: 1.0318490266799927, accuracy 0.6515999436378479\n",
      "Epoch 17, CIFAR-10 Batch 4:  cost: 1.0434176921844482, accuracy 0.6503998637199402\n",
      "Epoch 17, CIFAR-10 Batch 5:  cost: 1.017751693725586, accuracy 0.6537998914718628\n",
      "Epoch 18, CIFAR-10 Batch 1:  cost: 1.0522271394729614, accuracy 0.6459999084472656\n",
      "Epoch 18, CIFAR-10 Batch 2:  cost: 1.0130817890167236, accuracy 0.658799946308136\n",
      "Epoch 18, CIFAR-10 Batch 3:  cost: 1.0729458332061768, accuracy 0.637999951839447\n",
      "Epoch 18, CIFAR-10 Batch 4:  cost: 1.0337755680084229, accuracy 0.6561998724937439\n",
      "Epoch 18, CIFAR-10 Batch 5:  cost: 1.0743857622146606, accuracy 0.6469998359680176\n",
      "Epoch 19, CIFAR-10 Batch 1:  cost: 1.0274932384490967, accuracy 0.6565998792648315\n",
      "Epoch 19, CIFAR-10 Batch 2:  cost: 1.027490258216858, accuracy 0.6527999043464661\n",
      "Epoch 19, CIFAR-10 Batch 3:  cost: 1.0694246292114258, accuracy 0.6453999280929565\n",
      "Epoch 19, CIFAR-10 Batch 4:  cost: 1.053765058517456, accuracy 0.6457998752593994\n",
      "Epoch 19, CIFAR-10 Batch 5:  cost: 1.0534007549285889, accuracy 0.6545999050140381\n",
      "Epoch 20, CIFAR-10 Batch 1:  cost: 1.0304367542266846, accuracy 0.6559999585151672\n",
      "Epoch 20, CIFAR-10 Batch 2:  cost: 1.0395740270614624, accuracy 0.6527999043464661\n",
      "Epoch 20, CIFAR-10 Batch 3:  cost: 1.062211513519287, accuracy 0.6513999104499817\n",
      "Epoch 20, CIFAR-10 Batch 4:  cost: 1.0657776594161987, accuracy 0.6449999213218689\n",
      "Epoch 20, CIFAR-10 Batch 5:  cost: 1.1059160232543945, accuracy 0.6367998719215393\n",
      "Epoch 21, CIFAR-10 Batch 1:  cost: 1.0376349687576294, accuracy 0.6511998772621155\n",
      "Epoch 21, CIFAR-10 Batch 2:  cost: 1.030012607574463, accuracy 0.6573998928070068\n",
      "Epoch 21, CIFAR-10 Batch 3:  cost: 1.0471959114074707, accuracy 0.6563999652862549\n",
      "Epoch 21, CIFAR-10 Batch 4:  cost: 1.0924087762832642, accuracy 0.6499999165534973\n",
      "Epoch 21, CIFAR-10 Batch 5:  cost: 1.0640944242477417, accuracy 0.6487998962402344\n",
      "Epoch 22, CIFAR-10 Batch 1:  cost: 1.0333852767944336, accuracy 0.6619998812675476\n",
      "Epoch 22, CIFAR-10 Batch 2:  cost: 1.0416256189346313, accuracy 0.6591999530792236\n",
      "Epoch 22, CIFAR-10 Batch 3:  cost: 1.0641279220581055, accuracy 0.653799831867218\n",
      "Epoch 22, CIFAR-10 Batch 4:  cost: 1.105847716331482, accuracy 0.6487998962402344\n",
      "Epoch 22, CIFAR-10 Batch 5:  cost: 1.0656371116638184, accuracy 0.6547998785972595\n",
      "Epoch 23, CIFAR-10 Batch 1:  cost: 1.0372419357299805, accuracy 0.6623998880386353\n",
      "Epoch 23, CIFAR-10 Batch 2:  cost: 1.0663259029388428, accuracy 0.650399923324585\n",
      "Epoch 23, CIFAR-10 Batch 3:  cost: 1.1005064249038696, accuracy 0.6531998515129089\n",
      "Epoch 23, CIFAR-10 Batch 4:  cost: 1.082798719406128, accuracy 0.6497998237609863\n",
      "Epoch 23, CIFAR-10 Batch 5:  cost: 1.0696423053741455, accuracy 0.6545999050140381\n",
      "Epoch 24, CIFAR-10 Batch 1:  cost: 1.060369849205017, accuracy 0.6565999388694763\n",
      "Epoch 24, CIFAR-10 Batch 2:  cost: 1.1038506031036377, accuracy 0.6487998962402344\n",
      "Epoch 24, CIFAR-10 Batch 3:  cost: 1.1246243715286255, accuracy 0.6529998779296875\n",
      "Epoch 24, CIFAR-10 Batch 4:  cost: 1.070387840270996, accuracy 0.6545998454093933\n",
      "Epoch 24, CIFAR-10 Batch 5:  cost: 1.0984890460968018, accuracy 0.6573998928070068\n",
      "Epoch 25, CIFAR-10 Batch 1:  cost: 1.0675569772720337, accuracy 0.6601998805999756\n",
      "Epoch 25, CIFAR-10 Batch 2:  cost: 1.0702301263809204, accuracy 0.657599925994873\n",
      "Epoch 25, CIFAR-10 Batch 3:  cost: 1.1358579397201538, accuracy 0.6549999117851257\n",
      "Epoch 25, CIFAR-10 Batch 4:  cost: 1.1119569540023804, accuracy 0.6569998264312744\n",
      "Epoch 25, CIFAR-10 Batch 5:  cost: 1.0929430723190308, accuracy 0.6663998961448669\n",
      "Epoch 26, CIFAR-10 Batch 1:  cost: 1.0686734914779663, accuracy 0.6561999320983887\n",
      "Epoch 26, CIFAR-10 Batch 2:  cost: 1.060518503189087, accuracy 0.6579998731613159\n",
      "Epoch 26, CIFAR-10 Batch 3:  cost: 1.1104512214660645, accuracy 0.6579999327659607\n",
      "Epoch 26, CIFAR-10 Batch 4:  cost: 1.0728389024734497, accuracy 0.6595999002456665\n",
      "Epoch 26, CIFAR-10 Batch 5:  cost: 1.0944569110870361, accuracy 0.6659998297691345\n",
      "Epoch 27, CIFAR-10 Batch 1:  cost: 1.0843733549118042, accuracy 0.6563999056816101\n",
      "Epoch 27, CIFAR-10 Batch 2:  cost: 1.126096248626709, accuracy 0.6559998989105225\n",
      "Epoch 27, CIFAR-10 Batch 3:  cost: 1.1843185424804688, accuracy 0.6475998759269714\n",
      "Epoch 27, CIFAR-10 Batch 4:  cost: 1.092646837234497, accuracy 0.6615999341011047\n",
      "Epoch 27, CIFAR-10 Batch 5:  cost: 1.1256273984909058, accuracy 0.6603999137878418\n",
      "Epoch 28, CIFAR-10 Batch 1:  cost: 1.0963290929794312, accuracy 0.6583999395370483\n",
      "Epoch 28, CIFAR-10 Batch 2:  cost: 1.1022241115570068, accuracy 0.6611998677253723\n",
      "Epoch 28, CIFAR-10 Batch 3:  cost: 1.2064615488052368, accuracy 0.6451998949050903\n",
      "Epoch 28, CIFAR-10 Batch 4:  cost: 1.1200159788131714, accuracy 0.6519998908042908\n",
      "Epoch 28, CIFAR-10 Batch 5:  cost: 1.1619620323181152, accuracy 0.6609998941421509\n",
      "Epoch 29, CIFAR-10 Batch 1:  cost: 1.1465650796890259, accuracy 0.6591998338699341\n",
      "Epoch 29, CIFAR-10 Batch 2:  cost: 1.1576459407806396, accuracy 0.656999945640564\n",
      "Epoch 29, CIFAR-10 Batch 3:  cost: 1.1456453800201416, accuracy 0.6617999076843262\n",
      "Epoch 29, CIFAR-10 Batch 4:  cost: 1.1204941272735596, accuracy 0.6561998724937439\n",
      "Epoch 29, CIFAR-10 Batch 5:  cost: 1.1543340682983398, accuracy 0.6639999151229858\n",
      "Epoch 30, CIFAR-10 Batch 1:  cost: 1.1726306676864624, accuracy 0.653999924659729\n",
      "Epoch 30, CIFAR-10 Batch 2:  cost: 1.1655703783035278, accuracy 0.6557998657226562\n",
      "Epoch 30, CIFAR-10 Batch 3:  cost: 1.2216408252716064, accuracy 0.650999903678894\n",
      "Epoch 30, CIFAR-10 Batch 4:  cost: 1.134289026260376, accuracy 0.6641998887062073\n",
      "Epoch 30, CIFAR-10 Batch 5:  cost: 1.2020784616470337, accuracy 0.6499998569488525\n",
      "Epoch 31, CIFAR-10 Batch 1:  cost: 1.1872798204421997, accuracy 0.6485998630523682\n",
      "Epoch 31, CIFAR-10 Batch 2:  cost: 1.1751058101654053, accuracy 0.6527999043464661\n",
      "Epoch 31, CIFAR-10 Batch 3:  cost: 1.1899346113204956, accuracy 0.6589998602867126\n",
      "Epoch 31, CIFAR-10 Batch 4:  cost: 1.1359659433364868, accuracy 0.6591998934745789\n",
      "Epoch 31, CIFAR-10 Batch 5:  cost: 1.19594407081604, accuracy 0.6543998718261719\n",
      "Epoch 32, CIFAR-10 Batch 1:  cost: 1.1723052263259888, accuracy 0.6581999063491821\n",
      "Epoch 32, CIFAR-10 Batch 2:  cost: 1.213305115699768, accuracy 0.643799901008606\n",
      "Epoch 32, CIFAR-10 Batch 3:  cost: 1.196376085281372, accuracy 0.6569998860359192\n",
      "Epoch 32, CIFAR-10 Batch 4:  cost: 1.165140151977539, accuracy 0.6595998406410217\n",
      "Epoch 32, CIFAR-10 Batch 5:  cost: 1.2380980253219604, accuracy 0.6517998576164246\n",
      "Epoch 33, CIFAR-10 Batch 1:  cost: 1.2754342555999756, accuracy 0.6541998386383057\n",
      "Epoch 33, CIFAR-10 Batch 2:  cost: 1.192255973815918, accuracy 0.6477998495101929\n",
      "Epoch 33, CIFAR-10 Batch 3:  cost: 1.2294776439666748, accuracy 0.6589999198913574\n",
      "Epoch 33, CIFAR-10 Batch 4:  cost: 1.1742510795593262, accuracy 0.6589999198913574\n",
      "Epoch 33, CIFAR-10 Batch 5:  cost: 1.2801616191864014, accuracy 0.6457998752593994\n",
      "Epoch 34, CIFAR-10 Batch 1:  cost: 1.3163745403289795, accuracy 0.643799901008606\n",
      "Epoch 34, CIFAR-10 Batch 2:  cost: 1.2408039569854736, accuracy 0.6557998657226562\n",
      "Epoch 34, CIFAR-10 Batch 3:  cost: 1.245693325996399, accuracy 0.6595998406410217\n",
      "Epoch 34, CIFAR-10 Batch 4:  cost: 1.2253448963165283, accuracy 0.6607998609542847\n",
      "Epoch 34, CIFAR-10 Batch 5:  cost: 1.3060657978057861, accuracy 0.656999945640564\n",
      "Epoch 35, CIFAR-10 Batch 1:  cost: 1.3299695253372192, accuracy 0.6469998359680176\n",
      "Epoch 35, CIFAR-10 Batch 2:  cost: 1.252610206604004, accuracy 0.6559998989105225\n",
      "Epoch 35, CIFAR-10 Batch 3:  cost: 1.266968011856079, accuracy 0.6571998596191406\n",
      "Epoch 35, CIFAR-10 Batch 4:  cost: 1.2492939233779907, accuracy 0.6599999070167542\n",
      "Epoch 35, CIFAR-10 Batch 5:  cost: 1.2706822156906128, accuracy 0.6551999449729919\n",
      "Epoch 36, CIFAR-10 Batch 1:  cost: 1.3904259204864502, accuracy 0.6365998983383179\n",
      "Epoch 36, CIFAR-10 Batch 2:  cost: 1.274100661277771, accuracy 0.6523998975753784\n",
      "Epoch 36, CIFAR-10 Batch 3:  cost: 1.284429907798767, accuracy 0.6593998670578003\n",
      "Epoch 36, CIFAR-10 Batch 4:  cost: 1.256118893623352, accuracy 0.6605998873710632\n",
      "Epoch 36, CIFAR-10 Batch 5:  cost: 1.280102014541626, accuracy 0.6631999015808105\n",
      "Epoch 37, CIFAR-10 Batch 1:  cost: 1.358354091644287, accuracy 0.6453998684883118\n",
      "Epoch 37, CIFAR-10 Batch 2:  cost: 1.2777824401855469, accuracy 0.653999924659729\n",
      "Epoch 37, CIFAR-10 Batch 3:  cost: 1.2954034805297852, accuracy 0.6583998799324036\n",
      "Epoch 37, CIFAR-10 Batch 4:  cost: 1.2600891590118408, accuracy 0.6577998399734497\n",
      "Epoch 37, CIFAR-10 Batch 5:  cost: 1.292665719985962, accuracy 0.6585999131202698\n",
      "Epoch 38, CIFAR-10 Batch 1:  cost: 1.416618824005127, accuracy 0.6391998529434204\n",
      "Epoch 38, CIFAR-10 Batch 2:  cost: 1.4043461084365845, accuracy 0.6415998935699463\n",
      "Epoch 38, CIFAR-10 Batch 3:  cost: 1.3105303049087524, accuracy 0.6613999009132385\n",
      "Epoch 38, CIFAR-10 Batch 4:  cost: 1.2796320915222168, accuracy 0.6535998582839966\n",
      "Epoch 38, CIFAR-10 Batch 5:  cost: 1.3524458408355713, accuracy 0.6617999076843262\n",
      "Epoch 39, CIFAR-10 Batch 1:  cost: 1.4542988538742065, accuracy 0.6481999158859253\n",
      "Epoch 39, CIFAR-10 Batch 2:  cost: 1.3446073532104492, accuracy 0.6533998847007751\n",
      "Epoch 39, CIFAR-10 Batch 3:  cost: 1.3463754653930664, accuracy 0.6515998840332031\n",
      "Epoch 39, CIFAR-10 Batch 4:  cost: 1.3243833780288696, accuracy 0.6471998691558838\n",
      "Epoch 39, CIFAR-10 Batch 5:  cost: 1.472966194152832, accuracy 0.6479998826980591\n",
      "Epoch 40, CIFAR-10 Batch 1:  cost: 1.4041073322296143, accuracy 0.6497999429702759\n",
      "Epoch 40, CIFAR-10 Batch 2:  cost: 1.3420257568359375, accuracy 0.6495998501777649\n",
      "Epoch 40, CIFAR-10 Batch 3:  cost: 1.3541572093963623, accuracy 0.6451998949050903\n",
      "Epoch 40, CIFAR-10 Batch 4:  cost: 1.3463994264602661, accuracy 0.654999852180481\n",
      "Epoch 40, CIFAR-10 Batch 5:  cost: 1.3728981018066406, accuracy 0.6597999334335327\n",
      "Epoch 41, CIFAR-10 Batch 1:  cost: 1.4069621562957764, accuracy 0.6447998881340027\n",
      "Epoch 41, CIFAR-10 Batch 2:  cost: 1.4261829853057861, accuracy 0.6467998623847961\n",
      "Epoch 41, CIFAR-10 Batch 3:  cost: 1.3591208457946777, accuracy 0.6569998264312744\n",
      "Epoch 41, CIFAR-10 Batch 4:  cost: 1.3473716974258423, accuracy 0.6557998657226562\n",
      "Epoch 41, CIFAR-10 Batch 5:  cost: 1.3457083702087402, accuracy 0.6663998365402222\n",
      "Epoch 42, CIFAR-10 Batch 1:  cost: 1.3975600004196167, accuracy 0.653999924659729\n",
      "Epoch 42, CIFAR-10 Batch 2:  cost: 1.3903404474258423, accuracy 0.6533998847007751\n",
      "Epoch 42, CIFAR-10 Batch 3:  cost: 1.3903064727783203, accuracy 0.6593999266624451\n",
      "Epoch 42, CIFAR-10 Batch 4:  cost: 1.3689714670181274, accuracy 0.6513999700546265\n",
      "Epoch 42, CIFAR-10 Batch 5:  cost: 1.3841296434402466, accuracy 0.6629998683929443\n",
      "Epoch 43, CIFAR-10 Batch 1:  cost: 1.4170520305633545, accuracy 0.6529999375343323\n",
      "Epoch 43, CIFAR-10 Batch 2:  cost: 1.415276288986206, accuracy 0.6549999117851257\n",
      "Epoch 43, CIFAR-10 Batch 3:  cost: 1.3864208459854126, accuracy 0.6503998637199402\n",
      "Epoch 43, CIFAR-10 Batch 4:  cost: 1.3945876359939575, accuracy 0.6575998663902283\n",
      "Epoch 43, CIFAR-10 Batch 5:  cost: 1.427283525466919, accuracy 0.6599998474121094\n",
      "Epoch 44, CIFAR-10 Batch 1:  cost: 1.4661166667938232, accuracy 0.6543998718261719\n",
      "Epoch 44, CIFAR-10 Batch 2:  cost: 1.4315996170043945, accuracy 0.6553999185562134\n",
      "Epoch 44, CIFAR-10 Batch 3:  cost: 1.4475393295288086, accuracy 0.6559998989105225\n",
      "Epoch 44, CIFAR-10 Batch 4:  cost: 1.4344195127487183, accuracy 0.645599901676178\n",
      "Epoch 44, CIFAR-10 Batch 5:  cost: 1.440431833267212, accuracy 0.6623998880386353\n",
      "Epoch 45, CIFAR-10 Batch 1:  cost: 1.4210847616195679, accuracy 0.6603999137878418\n",
      "Epoch 45, CIFAR-10 Batch 2:  cost: 1.5080698728561401, accuracy 0.6515998840332031\n",
      "Epoch 45, CIFAR-10 Batch 3:  cost: 1.414328932762146, accuracy 0.6611998677253723\n",
      "Epoch 45, CIFAR-10 Batch 4:  cost: 1.4627143144607544, accuracy 0.6513998508453369\n",
      "Epoch 45, CIFAR-10 Batch 5:  cost: 1.4290484189987183, accuracy 0.6611998677253723\n",
      "Epoch 46, CIFAR-10 Batch 1:  cost: 1.488478183746338, accuracy 0.6553999185562134\n",
      "Epoch 46, CIFAR-10 Batch 2:  cost: 1.4451255798339844, accuracy 0.6505998969078064\n",
      "Epoch 46, CIFAR-10 Batch 3:  cost: 1.4686933755874634, accuracy 0.6607998609542847\n",
      "Epoch 46, CIFAR-10 Batch 4:  cost: 1.4772552251815796, accuracy 0.6563998460769653\n",
      "Epoch 46, CIFAR-10 Batch 5:  cost: 1.4259529113769531, accuracy 0.6617999076843262\n",
      "Epoch 47, CIFAR-10 Batch 1:  cost: 1.5083447694778442, accuracy 0.6467998623847961\n",
      "Epoch 47, CIFAR-10 Batch 2:  cost: 1.48612380027771, accuracy 0.6505998969078064\n",
      "Epoch 47, CIFAR-10 Batch 3:  cost: 1.4068138599395752, accuracy 0.6597999334335327\n",
      "Epoch 47, CIFAR-10 Batch 4:  cost: 1.397045373916626, accuracy 0.6551998853683472\n",
      "Epoch 47, CIFAR-10 Batch 5:  cost: 1.4116706848144531, accuracy 0.6583998799324036\n",
      "Epoch 48, CIFAR-10 Batch 1:  cost: 1.4844286441802979, accuracy 0.6541998982429504\n",
      "Epoch 48, CIFAR-10 Batch 2:  cost: 1.4527802467346191, accuracy 0.6481998562812805\n",
      "Epoch 48, CIFAR-10 Batch 3:  cost: 1.5018454790115356, accuracy 0.6559998989105225\n",
      "Epoch 48, CIFAR-10 Batch 4:  cost: 1.446055293083191, accuracy 0.6497999429702759\n",
      "Epoch 48, CIFAR-10 Batch 5:  cost: 1.4580117464065552, accuracy 0.6589999198913574\n",
      "Epoch 49, CIFAR-10 Batch 1:  cost: 1.4961156845092773, accuracy 0.640799880027771\n",
      "Epoch 49, CIFAR-10 Batch 2:  cost: 1.489075779914856, accuracy 0.650999903678894\n",
      "Epoch 49, CIFAR-10 Batch 3:  cost: 1.4616602659225464, accuracy 0.6589998602867126\n",
      "Epoch 49, CIFAR-10 Batch 4:  cost: 1.5085173845291138, accuracy 0.6549999117851257\n",
      "Epoch 49, CIFAR-10 Batch 5:  cost: 1.4660449028015137, accuracy 0.6545999050140381\n",
      "Epoch 50, CIFAR-10 Batch 1:  cost: 1.4677605628967285, accuracy 0.6555998921394348\n",
      "Epoch 50, CIFAR-10 Batch 2:  cost: 1.5974462032318115, accuracy 0.6427999138832092\n",
      "Epoch 50, CIFAR-10 Batch 3:  cost: 1.514390468597412, accuracy 0.6547999382019043\n",
      "Epoch 50, CIFAR-10 Batch 4:  cost: 1.4970455169677734, accuracy 0.6597999334335327\n",
      "Epoch 50, CIFAR-10 Batch 5:  cost: 1.514939785003662, accuracy 0.668199896812439\n"
     ]
    }
   ],
   "source": [
    "\"\"\"\n",
    "DON'T MODIFY ANYTHING IN THIS CELL\n",
    "\"\"\"\n",
    "save_model_path = './image_classification'\n",
    "\n",
    "print('Training...')\n",
    "with tf.Session() as sess:\n",
    "    # Initializing the variables\n",
    "    sess.run(tf.global_variables_initializer())\n",
    "    \n",
    "    # Training cycle\n",
    "    for epoch in range(epochs):\n",
    "        # Loop over all batches\n",
    "        n_batches = 5\n",
    "        for batch_i in range(1, n_batches + 1):\n",
    "            for batch_features, batch_labels in helper.load_preprocess_training_batch(batch_i, batch_size):\n",
    "                train_neural_network(sess, optimizer, keep_probability, batch_features, batch_labels)\n",
    "            print('Epoch {:>2}, CIFAR-10 Batch {}:  '.format(epoch + 1, batch_i), end='')\n",
    "            print_stats(sess, batch_features, batch_labels, cost, accuracy)\n",
    "            \n",
    "    # Save Model\n",
    "    saver = tf.train.Saver()\n",
    "    save_path = saver.save(sess, save_model_path)"
   ]
  },
  {
   "cell_type": "markdown",
   "metadata": {
    "deletable": true,
    "editable": true
   },
   "source": [
    "# Checkpoint\n",
    "The model has been saved to disk.\n",
    "## Test Model\n",
    "Test your model against the test dataset.  This will be your final accuracy. You should have an accuracy greater than 50%. If you don't, keep tweaking the model architecture and parameters."
   ]
  },
  {
   "cell_type": "code",
   "execution_count": 18,
   "metadata": {
    "collapsed": false,
    "deletable": true,
    "editable": true
   },
   "outputs": [
    {
     "name": "stdout",
     "output_type": "stream",
     "text": [
      "Testing Accuracy: 0.6597112341772152\n",
      "\n"
     ]
    },
    {
     "data": {
      "image/png": "[encoded data removed]",
      "text/plain": [
       "<matplotlib.figure.Figure at 0x7feed049af60>"
      ]
     },
     "metadata": {
      "image/png": {
       "height": 319,
       "width": 355
      }
     },
     "output_type": "display_data"
    }
   ],
   "source": [
    "\"\"\"\n",
    "DON'T MODIFY ANYTHING IN THIS CELL\n",
    "\"\"\"\n",
    "%matplotlib inline\n",
    "%config InlineBackend.figure_format = 'retina'\n",
    "\n",
    "import tensorflow as tf\n",
    "import pickle\n",
    "import helper\n",
    "import random\n",
    "\n",
    "# Set batch size if not already set\n",
    "try:\n",
    "    if batch_size:\n",
    "        pass\n",
    "except NameError:\n",
    "    batch_size = 64\n",
    "\n",
    "save_model_path = './image_classification'\n",
    "n_samples = 4\n",
    "top_n_predictions = 3\n",
    "\n",
    "def test_model():\n",
    "    \"\"\"\n",
    "    Test the saved model against the test dataset\n",
    "    \"\"\"\n",
    "\n",
    "    test_features, test_labels = pickle.load(open('preprocess_training.p', mode='rb'))\n",
    "    loaded_graph = tf.Graph()\n",
    "\n",
    "    with tf.Session(graph=loaded_graph) as sess:\n",
    "        # Load model\n",
    "        loader = tf.train.import_meta_graph(save_model_path + '.meta')\n",
    "        loader.restore(sess, save_model_path)\n",
    "\n",
    "        # Get Tensors from loaded model\n",
    "        loaded_x = loaded_graph.get_tensor_by_name('x:0')\n",
    "        loaded_y = loaded_graph.get_tensor_by_name('y:0')\n",
    "        loaded_keep_prob = loaded_graph.get_tensor_by_name('keep_prob:0')\n",
    "        loaded_logits = loaded_graph.get_tensor_by_name('logits:0')\n",
    "        loaded_acc = loaded_graph.get_tensor_by_name('accuracy:0')\n",
    "        \n",
    "        # Get accuracy in batches for memory limitations\n",
    "        test_batch_acc_total = 0\n",
    "        test_batch_count = 0\n",
    "        \n",
    "        for train_feature_batch, train_label_batch in helper.batch_features_labels(test_features, test_labels, batch_size):\n",
    "            test_batch_acc_total += sess.run(\n",
    "                loaded_acc,\n",
    "                feed_dict={loaded_x: train_feature_batch, loaded_y: train_label_batch, loaded_keep_prob: 1.0})\n",
    "            test_batch_count += 1\n",
    "\n",
    "        print('Testing Accuracy: {}\\n'.format(test_batch_acc_total/test_batch_count))\n",
    "\n",
    "        # Print Random Samples\n",
    "        random_test_features, random_test_labels = tuple(zip(*random.sample(list(zip(test_features, test_labels)), n_samples)))\n",
    "        random_test_predictions = sess.run(\n",
    "            tf.nn.top_k(tf.nn.softmax(loaded_logits), top_n_predictions),\n",
    "            feed_dict={loaded_x: random_test_features, loaded_y: random_test_labels, loaded_keep_prob: 1.0})\n",
    "        helper.display_image_predictions(random_test_features, random_test_labels, random_test_predictions)\n",
    "\n",
    "\n",
    "test_model()"
   ]
  },
  {
   "cell_type": "markdown",
   "metadata": {
    "deletable": true,
    "editable": true
   },
   "source": [
    "## Why 50-70% Accuracy?\n",
    "You might be wondering why you can't get an accuracy any higher. First things first, 50% isn't bad for a simple CNN.  Pure guessing would get you 10% accuracy. However, you might notice people are getting scores [well above 70%](http://rodrigob.github.io/are_we_there_yet/build/classification_datasets_results.html#43494641522d3130).  That's because we haven't taught you all there is to know about neural networks. We still need to cover a few more techniques.\n",
    "## Submitting This Project\n",
    "When submitting this project, make sure to run all the cells before saving the notebook.  Save the notebook file as \"dlnd_image_classification.ipynb\" and save it as a HTML file under \"File\" -> \"Download as\".  Include the \"helper.py\" and \"problem_unittests.py\" files in your submission."
   ]
  }
 ],
 "metadata": {
  "anaconda-cloud": {},
  "kernelspec": {
   "display_name": "Python 3",
   "language": "python",
   "name": "python3"
  },
  "language_info": {
   "codemirror_mode": {
    "name": "ipython",
    "version": 3
   },
   "file_extension": ".py",
   "mimetype": "text/x-python",
   "name": "python",
   "nbconvert_exporter": "python",
   "pygments_lexer": "ipython3",
   "version": "3.5.2"
  },
  "widgets": {
   "state": {},
   "version": "1.1.2"
  }
 },
 "nbformat": 4,
 "nbformat_minor": 0
}
